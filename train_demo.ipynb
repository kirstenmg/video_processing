{
 "cells": [
  {
   "cell_type": "code",
   "execution_count": 2,
   "metadata": {},
   "outputs": [
    {
     "name": "stderr",
     "output_type": "stream",
     "text": [
      "/opt/conda/lib/python3.7/site-packages/tqdm/auto.py:22: TqdmWarning: IProgress not found. Please update jupyter and ipywidgets. See https://ipywidgets.readthedocs.io/en/stable/user_install.html\n",
      "  from .autonotebook import tqdm as notebook_tqdm\n"
     ]
    }
   ],
   "source": [
    "from combo_dataloader import ComboDataLoader, ComboDLTransform, DataLoaderType\n",
    "import torchvision\n",
    "import time\n",
    "import pytorch_lightning\n",
    "import torch\n",
    "import json"
   ]
  },
  {
   "attachments": {},
   "cell_type": "markdown",
   "metadata": {},
   "source": [
    "### Setting up video inputs and model"
   ]
  },
  {
   "attachments": {},
   "cell_type": "markdown",
   "metadata": {},
   "source": [
    "**Load in video paths and labels**"
   ]
  },
  {
   "cell_type": "code",
   "execution_count": 3,
   "metadata": {},
   "outputs": [],
   "source": [
    "with open(\"kinetics_classnames.json\", \"r\") as f:\n",
    "    kinetics_classnames_to_id = json.load(f)"
   ]
  },
  {
   "cell_type": "code",
   "execution_count": 4,
   "metadata": {},
   "outputs": [],
   "source": [
    "\n",
    "# Create an id to label name mapping\n",
    "kinetics_id_to_classname = {}\n",
    "for k, v in kinetics_classnames_to_id.items():\n",
    "    kinetics_id_to_classname[v] = str(k).replace('\"', \"\")"
   ]
  },
  {
   "cell_type": "code",
   "execution_count": 5,
   "metadata": {},
   "outputs": [],
   "source": [
    "annotation_file_path = \"/home/maureen/kinetics/kinetics400/annotations/val.csv\"\n",
    "video_base_path = \"/home/maureen/kinetics/kinetics400\"\n",
    "video_paths = []\n",
    "labels = []\n",
    "with open(annotation_file_path, 'r') as annotation_file:\n",
    "\tfor i, line in enumerate(annotation_file):\n",
    "\t\tif i != 0: # skip column headers\n",
    "\t\t\tline = annotation_file.readline()\n",
    "\t\t\tlabel, youtube_id, time_start, time_end, split, is_cc = line.strip().split(',')\n",
    "\t\t\tlabel_id = kinetics_classnames_to_id.get(label)\n",
    "\t\t\tvpath = f'{video_base_path}/{split}/{youtube_id}_{int(time_start):06d}_{int(time_end):06d}.mp4'\n",
    "\t\t\tvideo_paths.append(vpath)\n",
    "\t\t\tlabels.append(label_id)"
   ]
  },
  {
   "attachments": {},
   "cell_type": "markdown",
   "metadata": {},
   "source": [
    "**Set up transform**"
   ]
  },
  {
   "cell_type": "code",
   "execution_count": 6,
   "metadata": {},
   "outputs": [],
   "source": [
    "transform = ComboDLTransform(\n",
    "\t\tcrop=112,\n",
    "\t\tmean=[0.43216, 0.394666, 0.37645],\n",
    "\t\tstd=[0.22803 , 0.22145 , 0.216989],\n",
    "\t\tshort_side_scale=128\n",
    ")\n"
   ]
  },
  {
   "attachments": {},
   "cell_type": "markdown",
   "metadata": {},
   "source": [
    "**Using only a DALI dataloader**"
   ]
  },
  {
   "cell_type": "code",
   "execution_count": 7,
   "metadata": {},
   "outputs": [],
   "source": [
    "dl = ComboDataLoader(\n",
    "\t\tdataloaders=[DataLoaderType.DALI],\n",
    "\t\tdataloader_portions=[1],\n",
    "\t\tvideo_paths=video_paths,\n",
    "\t\ttransform=transform,\n",
    "\t\tstride=2,\n",
    "\t\tstep=32,\n",
    "\t\tsequence_length=16,\n",
    "\t\tfps=32,\n",
    "\t\tbatch_size=8,\n",
    "\t\tdali_pipeline_kwargs={\"num_threads\": 10}\n",
    ")"
   ]
  },
  {
   "cell_type": "code",
   "execution_count": 8,
   "metadata": {},
   "outputs": [
    {
     "data": {
      "text/plain": [
       "38.809071857482195"
      ]
     },
     "execution_count": 8,
     "metadata": {},
     "output_type": "execute_result"
    }
   ],
   "source": [
    "start = time.perf_counter()\n",
    "for batch in dl:\n",
    "    pass\n",
    "dali_time = time.perf_counter() - start\n",
    "dali_time"
   ]
  },
  {
   "attachments": {},
   "cell_type": "markdown",
   "metadata": {},
   "source": [
    "**Using PyTorch with a Decord backend**\n",
    "\n",
    "Using decord, we can push the resize down to the decoding step to get over 2x speedup."
   ]
  },
  {
   "cell_type": "code",
   "execution_count": 9,
   "metadata": {},
   "outputs": [],
   "source": [
    "# Create the dataloader\n",
    "dl = ComboDataLoader(\n",
    "\t\tdataloaders=[DataLoaderType.PYTORCH],\n",
    "\t\tdataloader_portions=[1],\n",
    "\t\tvideo_paths=video_paths,\n",
    "\t\ttransform=transform,\n",
    "\t\tstride=2,\n",
    "\t\tstep=32,\n",
    "\t\tsequence_length=16,\n",
    "\t\tfps=32,\n",
    "\t\tbatch_size=8,\n",
    "\t\tpytorch_dataloader_kwargs={\"num_workers\": 10},\n",
    "\t\tpytorch_dataset_kwargs=dict(decoder=\"decord\", short_side_scale=128),\n",
    ")"
   ]
  },
  {
   "cell_type": "code",
   "execution_count": 10,
   "metadata": {},
   "outputs": [
    {
     "data": {
      "text/plain": [
       "13.961845997720957"
      ]
     },
     "execution_count": 10,
     "metadata": {},
     "output_type": "execute_result"
    }
   ],
   "source": [
    "start = time.perf_counter()\n",
    "for batch in dl:\n",
    "    pass\n",
    "pytorch_decord_time = time.perf_counter() - start\n",
    "pytorch_decord_time"
   ]
  },
  {
   "attachments": {},
   "cell_type": "markdown",
   "metadata": {},
   "source": [
    "**Using the optimal combination of DALI and PyTorch with a Decord backend**"
   ]
  },
  {
   "cell_type": "code",
   "execution_count": 11,
   "metadata": {},
   "outputs": [
    {
     "data": {
      "text/plain": [
       "10.090358682945372"
      ]
     },
     "execution_count": 11,
     "metadata": {},
     "output_type": "execute_result"
    }
   ],
   "source": [
    "dali_portion = int(round(pytorch_decord_time / (pytorch_decord_time + dali_time) * 100))\n",
    "pytorch_portion = int(round(dali_time / (pytorch_decord_time + dali_time) * 100))\n",
    "\n",
    "# Expected time with these portions\n",
    "dali_portion / 100 * dali_time"
   ]
  },
  {
   "cell_type": "code",
   "execution_count": 12,
   "metadata": {},
   "outputs": [],
   "source": [
    "train_videos = video_paths[:5]\n",
    "train_labels = labels[:5]\n",
    "test_videos = video_paths[5:10]\n",
    "test_labels = labels[5:10]"
   ]
  },
  {
   "cell_type": "code",
   "execution_count": 13,
   "metadata": {},
   "outputs": [],
   "source": [
    "# Create the dataloader\n",
    "train_dl = ComboDataLoader(\n",
    "    dataloaders=[DataLoaderType.PYTORCH ],\n",
    "    dataloader_portions=[pytorch_portion],\n",
    "    video_paths=train_videos,\n",
    "    labels=train_labels,\n",
    "    transform=transform,\n",
    "    stride=2,\n",
    "    step=32,\n",
    "    sequence_length=16,\n",
    "    fps=32,\n",
    "    batch_size=8,\n",
    "    pytorch_dataloader_kwargs={\"num_workers\": 10},\n",
    "    pytorch_dataset_kwargs=dict(decoder=\"decord\", short_side_scale=128),\n",
    "    dali_pipeline_kwargs={\"num_threads\": 10},\n",
    ")\n",
    "test_dl = ComboDataLoader(\n",
    "    dataloaders=[DataLoaderType.PYTORCH],\n",
    "    dataloader_portions=[pytorch_portion],\n",
    "    video_paths=test_videos,\n",
    "    labels=test_labels,\n",
    "    transform=transform,\n",
    "    stride=2,\n",
    "    step=32,\n",
    "    sequence_length=16,\n",
    "    fps=32,\n",
    "    batch_size=8,\n",
    "    pytorch_dataloader_kwargs={\"num_workers\": 10},\n",
    "    pytorch_dataset_kwargs=dict(decoder=\"decord\", short_side_scale=128),\n",
    "    dali_pipeline_kwargs={\"num_threads\": 10},\n",
    ")"
   ]
  },
  {
   "attachments": {},
   "cell_type": "markdown",
   "metadata": {},
   "source": [
    "### Train loop"
   ]
  },
  {
   "cell_type": "code",
   "execution_count": 19,
   "metadata": {},
   "outputs": [],
   "source": [
    "class VideoClassificationLightningModule(pytorch_lightning.LightningModule):\n",
    "    def __init__(self):\n",
    "        super().__init__()\n",
    "        model = torchvision.models.video.r3d_18()\n",
    "        model = model.to(\"cuda\")\n",
    "\n",
    "        # Freeze all but last fully-connected layer\n",
    "        for name, param in model.named_parameters():\n",
    "            if not name.startswith(\"fc\"):\n",
    "                param.requires_grad = False\n",
    "        self.model = model\n",
    "\n",
    "    def forward(self, x):\n",
    "        return self.model(x)\n",
    "\n",
    "    def training_step(self, batch, batch_idx):\n",
    "        # The model expects a video tensor of shape (B, C, T, H, W), which is the\n",
    "        # format provided by the dataset\n",
    "        pred = self.model(batch[\"frames\"])\n",
    "        labels = batch[\"label\"].to(torch.long)\n",
    "\n",
    "        # Compute cross entropy loss, loss.backwards will be called behind the scenes\n",
    "        # by PyTorchLightning after being returned from this method.\n",
    "        loss = torch.nn.functional.cross_entropy(pred, labels)\n",
    "\n",
    "        self.log(\"train_loss\", loss)\n",
    "        return loss\n",
    "\n",
    "    def test_step(self, batch, batch_idx):\n",
    "        pred = self.model(batch[\"frames\"])\n",
    "        labels = batch[\"label\"].to(torch.long)\n",
    "\n",
    "        loss = torch.nn.functional.cross_entropy(pred, labels)\n",
    "\n",
    "        self.log(\"test_loss\", loss)\n",
    "        return loss\n",
    "\n",
    "    def validation_step(self, batch, batch_idx):\n",
    "        pred = self.model(batch[\"frames\"])\n",
    "        labels = batch[\"label\"].to(torch.long)\n",
    "        \n",
    "        loss = torch.nn.functional.cross_entropy(pred, labels)\n",
    "\n",
    "        self.log(\"val_loss\", loss)\n",
    "        return loss\n",
    "\n",
    "    def configure_optimizers(self):\n",
    "        \"\"\"\n",
    "        Setup the Adam optimizer. Note, that this function also can return a lr scheduler, which is\n",
    "        usually useful for training video models.\n",
    "        \"\"\"\n",
    "        return torch.optim.Adam(self.parameters(), lr=1e-4)"
   ]
  },
  {
   "cell_type": "code",
   "execution_count": 20,
   "metadata": {},
   "outputs": [],
   "source": [
    "iterator = iter(train_dl)"
   ]
  },
  {
   "cell_type": "code",
   "execution_count": 21,
   "metadata": {},
   "outputs": [
    {
     "name": "stderr",
     "output_type": "stream",
     "text": [
      "GPU available: True (cuda), used: True\n",
      "TPU available: False, using: 0 TPU cores\n",
      "IPU available: False, using: 0 IPUs\n",
      "HPU available: False, using: 0 HPUs\n",
      "/opt/conda/lib/python3.7/site-packages/pytorch_lightning/trainer/configuration_validator.py:110: PossibleUserWarning: You defined a `validation_step` but have no `val_dataloader`. Skipping val loop.\n",
      "  category=PossibleUserWarning,\n",
      "LOCAL_RANK: 0 - CUDA_VISIBLE_DEVICES: [0]\n",
      "\n",
      "  | Name  | Type        | Params\n",
      "--------------------------------------\n",
      "0 | model | VideoResNet | 33.4 M\n",
      "--------------------------------------\n",
      "205 K     Trainable params\n",
      "33.2 M    Non-trainable params\n",
      "33.4 M    Total params\n",
      "133.486   Total estimated model params size (MB)\n"
     ]
    },
    {
     "name": "stdout",
     "output_type": "stream",
     "text": [
      "Epoch 99: : 10it [00:03,  3.28it/s, loss=1.61, v_num=35]"
     ]
    },
    {
     "name": "stderr",
     "output_type": "stream",
     "text": [
      "`Trainer.fit` stopped: `max_epochs=100` reached.\n"
     ]
    },
    {
     "name": "stdout",
     "output_type": "stream",
     "text": [
      "Epoch 99: : 10it [00:03,  2.98it/s, loss=1.61, v_num=35]\n"
     ]
    }
   ],
   "source": [
    "trainer = pytorch_lightning.Trainer(accelerator='gpu', devices=1, max_epochs=100)\n",
    "model = VideoClassificationLightningModule()\n",
    "trainer.fit(model=model, train_dataloaders=train_dl)"
   ]
  },
  {
   "cell_type": "code",
   "execution_count": 23,
   "metadata": {},
   "outputs": [
    {
     "name": "stderr",
     "output_type": "stream",
     "text": [
      "LOCAL_RANK: 0 - CUDA_VISIBLE_DEVICES: [0]\n"
     ]
    },
    {
     "name": "stdout",
     "output_type": "stream",
     "text": [
      "Testing DataLoader 0: : 9it [00:00, 13.10it/s] \n",
      "────────────────────────────────────────────────────────────────────────────────────────────────────────────────────────\n",
      "       Test metric             DataLoader 0\n",
      "────────────────────────────────────────────────────────────────────────────────────────────────────────────────────────\n",
      "        test_loss           12.400954246520996\n",
      "────────────────────────────────────────────────────────────────────────────────────────────────────────────────────────\n"
     ]
    },
    {
     "data": {
      "text/plain": [
       "[{'test_loss': 12.400954246520996}]"
      ]
     },
     "execution_count": 23,
     "metadata": {},
     "output_type": "execute_result"
    }
   ],
   "source": [
    "# TODO: separate test and val\n",
    "trainer.test(model=model, dataloaders=test_dl)"
   ]
  },
  {
   "cell_type": "code",
   "execution_count": null,
   "metadata": {},
   "outputs": [],
   "source": []
  }
 ],
 "metadata": {
  "kernelspec": {
   "display_name": "base",
   "language": "python",
   "name": "python3"
  },
  "language_info": {
   "codemirror_mode": {
    "name": "ipython",
    "version": 3
   },
   "file_extension": ".py",
   "mimetype": "text/x-python",
   "name": "python",
   "nbconvert_exporter": "python",
   "pygments_lexer": "ipython3",
   "version": "3.7.13"
  },
  "orig_nbformat": 4
 },
 "nbformat": 4,
 "nbformat_minor": 2
}
