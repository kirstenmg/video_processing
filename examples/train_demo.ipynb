{
 "cells": [
  {
   "cell_type": "code",
   "execution_count": 1,
   "metadata": {},
   "outputs": [
    {
     "name": "stderr",
     "output_type": "stream",
     "text": [
      "/opt/conda/lib/python3.7/site-packages/tqdm/auto.py:22: TqdmWarning: IProgress not found. Please update jupyter and ipywidgets. See https://ipywidgets.readthedocs.io/en/stable/user_install.html\n",
      "  from .autonotebook import tqdm as notebook_tqdm\n"
     ]
    }
   ],
   "source": [
    "from combo_dataloader import ComboDataLoader, ComboDLTransform, DataLoaderType\n",
    "import torchvision\n",
    "import time\n",
    "import torch.nn as nn\n",
    "import pytorch_lightning\n",
    "import torch\n",
    "import json\n",
    "from typing import List, Tuple\n",
    "import os\n",
    "import torchmetrics\n",
    "import random"
   ]
  },
  {
   "attachments": {},
   "cell_type": "markdown",
   "metadata": {},
   "source": [
    "### Setting up video inputs and model"
   ]
  },
  {
   "attachments": {},
   "cell_type": "markdown",
   "metadata": {},
   "source": [
    "**Load in video paths and labels**"
   ]
  },
  {
   "cell_type": "code",
   "execution_count": 2,
   "metadata": {},
   "outputs": [],
   "source": [
    "with open(\"kinetics_classnames.json\", \"r\") as f:\n",
    "    kinetics_classnames_json = json.load(f)"
   ]
  },
  {
   "cell_type": "code",
   "execution_count": 3,
   "metadata": {},
   "outputs": [],
   "source": [
    "# Create a label name to id mapping\n",
    "kinetics_classnames_to_id = {}\n",
    "for k, v in kinetics_classnames_json.items():\n",
    "    kinetics_classnames_to_id[str(k).replace('\"', \"\")] = v\n",
    "\n",
    "# Create an id to label name mapping\n",
    "kinetics_id_to_classname = {}\n",
    "for k, v in kinetics_classnames_to_id.items():\n",
    "    kinetics_id_to_classname[v] = k"
   ]
  },
  {
   "cell_type": "code",
   "execution_count": 4,
   "metadata": {},
   "outputs": [],
   "source": [
    "# These videos are somehow corrupt and can't be read\n",
    "# When running on your system, you can delete this cell\n",
    "null_videos = {\n",
    "    \"/home/maureen/kinetics/kinetics400_10classes/train/xxUezLcXkDs_000256_000266.mp4\",\n",
    "    \"/home/maureen/kinetics/kinetics400_10classes/train/CUxsn4YXksI_000119_000129.mp4\"\n",
    "}"
   ]
  },
  {
   "cell_type": "code",
   "execution_count": 5,
   "metadata": {},
   "outputs": [],
   "source": [
    "# Loads video paths and labels from a CSV file\n",
    "def load_video_paths(annotation_file_path, video_base_path, shuffle=True) -> Tuple[List[str], List[int]]:\n",
    "\tvideo_paths = []\n",
    "\tlabels = []\n",
    "\twith open(annotation_file_path, 'r') as annotation_file:\n",
    "\t\tfor i, line in enumerate(annotation_file):\n",
    "\t\t\tif i != 0: # skip column headers\n",
    "\t\t\t\tline = annotation_file.readline()\n",
    "\t\t\t\tif line:\n",
    "\t\t\t\t\tlabel, youtube_id, time_start, time_end, split, is_cc = line.strip().split(',')\n",
    "\t\t\t\t\tlabel_id = kinetics_classnames_to_id.get(label)\n",
    "\t\t\t\t\tvpath = f'{video_base_path}/{split}/{youtube_id}_{int(time_start):06d}_{int(time_end):06d}.mp4'\n",
    "\n",
    "\t\t\t\t\tif os.path.exists(vpath) and vpath not in null_videos:\n",
    "\t\t\t\t\t\tvideo_paths.append(vpath)\n",
    "\t\t\t\t\t\tlabels.append(label_id)\n",
    "\n",
    "\tif shuffle:\n",
    "\t\tcombined = list(zip(video_paths, labels))\n",
    "\t\trandom.shuffle(combined)\n",
    "\t\tvideo_paths, labels = zip(*combined)\n",
    "\n",
    "\treturn video_paths, labels"
   ]
  },
  {
   "cell_type": "code",
   "execution_count": 6,
   "metadata": {},
   "outputs": [],
   "source": [
    "# Load in test and training paths\n",
    "# Replace these paths for your own system\n",
    "val_paths, val_labels = load_video_paths(\n",
    "    '/home/maureen/kinetics/kinetics400_10classes/annotations/val.csv',\n",
    "    '/home/maureen/kinetics/kinetics400_10classes'\n",
    ")\n",
    "train_paths, train_labels = load_video_paths(\n",
    "    '/home/maureen/kinetics/kinetics400_10classes/annotations/train.csv',\n",
    "    '/home/maureen/kinetics/kinetics400_10classes'\n",
    ")"
   ]
  },
  {
   "attachments": {},
   "cell_type": "markdown",
   "metadata": {},
   "source": [
    "**Set up transform**"
   ]
  },
  {
   "cell_type": "code",
   "execution_count": 7,
   "metadata": {},
   "outputs": [],
   "source": [
    "# This is the specified transform for the R3D_18 model used here\n",
    "transform = ComboDLTransform(\n",
    "\t\tcrop=112,\n",
    "\t\tmean=[0.43216, 0.394666, 0.37645],\n",
    "\t\tstd=[0.22803 , 0.22145 , 0.216989],\n",
    "\t\tshort_side_scale=128\n",
    ")"
   ]
  },
  {
   "attachments": {},
   "cell_type": "markdown",
   "metadata": {},
   "source": [
    "#### Determine the optimal video allocation to DALI/Torch dataloaders\n",
    "\n",
    "To figure out the best allocation of videos to dataloading subprocesses, we run just dataloading on a small subset of the input videos to get an approximation of the relative efficiency of DALI and PyTorch dataloaders for this setup."
   ]
  },
  {
   "attachments": {},
   "cell_type": "markdown",
   "metadata": {},
   "source": [
    "**Using only a DALI dataloader**"
   ]
  },
  {
   "cell_type": "code",
   "execution_count": 8,
   "metadata": {},
   "outputs": [],
   "source": [
    "dl = ComboDataLoader(\n",
    "\t\tdataloaders=[DataLoaderType.DALI],\n",
    "\t\tdataloader_portions=[1],\n",
    "\t\tvideo_paths=train_paths[:50],\n",
    "\t\ttransform=transform,\n",
    "\t\tstride=2,\n",
    "\t\tstep=32,\n",
    "\t\tsequence_length=16,\n",
    "\t\tfps=32,\n",
    "\t\tbatch_size=8,\n",
    "\t\tdali_pipeline_kwargs={\"num_threads\": 10}\n",
    ")"
   ]
  },
  {
   "cell_type": "code",
   "execution_count": 9,
   "metadata": {},
   "outputs": [
    {
     "name": "stderr",
     "output_type": "stream",
     "text": [
      "[/opt/dali/dali/operators/reader/loader/video_loader.h:180] ``file_list_include_preceding_frame`` uses the default value False. In future releases, the default value will be changed to True.\n"
     ]
    },
    {
     "data": {
      "text/plain": [
       "20.474931203003507"
      ]
     },
     "execution_count": 9,
     "metadata": {},
     "output_type": "execute_result"
    }
   ],
   "source": [
    "start = time.perf_counter()\n",
    "for batch in dl:\n",
    "    pass\n",
    "dali_time = time.perf_counter() - start\n",
    "dali_time"
   ]
  },
  {
   "attachments": {},
   "cell_type": "markdown",
   "metadata": {},
   "source": [
    "**Using PyTorch with a Decord backend**"
   ]
  },
  {
   "cell_type": "code",
   "execution_count": 10,
   "metadata": {},
   "outputs": [],
   "source": [
    "# Create the dataloader\n",
    "dl = ComboDataLoader(\n",
    "\t\tdataloaders=[DataLoaderType.PYTORCH],\n",
    "\t\tdataloader_portions=[1],\n",
    "\t\tvideo_paths=train_paths[:50],\n",
    "\t\ttransform=transform,\n",
    "\t\tstride=2,\n",
    "\t\tstep=32,\n",
    "\t\tsequence_length=16,\n",
    "\t\tfps=32,\n",
    "\t\tbatch_size=8,\n",
    "\t\tpytorch_dataloader_kwargs={\"num_workers\": 10},\n",
    "\t\tpytorch_dataset_kwargs=dict(decoder=\"decord\", short_side_scale=128),\n",
    ")"
   ]
  },
  {
   "cell_type": "code",
   "execution_count": 11,
   "metadata": {},
   "outputs": [
    {
     "data": {
      "text/plain": [
       "8.870198810996953"
      ]
     },
     "execution_count": 11,
     "metadata": {},
     "output_type": "execute_result"
    }
   ],
   "source": [
    "start = time.perf_counter()\n",
    "for batch in dl:\n",
    "    pass\n",
    "pytorch_decord_time = time.perf_counter() - start\n",
    "pytorch_decord_time"
   ]
  },
  {
   "attachments": {},
   "cell_type": "markdown",
   "metadata": {},
   "source": [
    "**Using the optimal combination of DALI and PyTorch with a Decord backend**"
   ]
  },
  {
   "cell_type": "code",
   "execution_count": 12,
   "metadata": {},
   "outputs": [
    {
     "data": {
      "text/plain": [
       "6.142479360901052"
      ]
     },
     "execution_count": 12,
     "metadata": {},
     "output_type": "execute_result"
    }
   ],
   "source": [
    "dali_portion = int(round(pytorch_decord_time / (pytorch_decord_time + dali_time) * 100))\n",
    "pytorch_portion = int(round(dali_time / (pytorch_decord_time + dali_time) * 100))\n",
    "\n",
    "# Expected time with these portions\n",
    "dali_portion / 100 * dali_time"
   ]
  },
  {
   "cell_type": "code",
   "execution_count": 14,
   "metadata": {},
   "outputs": [],
   "source": [
    "# Create the dataloader\n",
    "train_dl = ComboDataLoader(\n",
    "    dataloaders=[DataLoaderType.PYTORCH, DataLoaderType.DALI],\n",
    "    dataloader_portions=[pytorch_portion, dali_portion],\n",
    "    video_paths=train_paths,\n",
    "    labels=train_labels,\n",
    "    transform=transform,\n",
    "    stride=2,\n",
    "    step=32,\n",
    "    sequence_length=16,\n",
    "    fps=32,\n",
    "    batch_size=8,\n",
    "    pytorch_dataloader_kwargs={\"num_workers\": 10},\n",
    "    pytorch_dataset_kwargs=dict(decoder=\"decord\", short_side_scale=128),\n",
    "    dali_pipeline_kwargs={\"num_threads\": 10},\n",
    ")\n",
    "test_dl = ComboDataLoader(\n",
    "    dataloaders=[DataLoaderType.PYTORCH, DataLoaderType.DALI],\n",
    "    dataloader_portions=[pytorch_portion, dali_portion],\n",
    "    video_paths=val_paths,\n",
    "    labels=val_labels,\n",
    "    transform=transform,\n",
    "    stride=2,\n",
    "    step=32,\n",
    "    sequence_length=16,\n",
    "    fps=32,\n",
    "    batch_size=8,\n",
    "    pytorch_dataloader_kwargs={\"num_workers\": 10},\n",
    "    pytorch_dataset_kwargs=dict(decoder=\"decord\", short_side_scale=128),\n",
    "    dali_pipeline_kwargs={\"num_threads\": 10},\n",
    ")"
   ]
  },
  {
   "attachments": {},
   "cell_type": "markdown",
   "metadata": {},
   "source": [
    "### Train loop\n",
    "\n",
    "To train, we use pytorchlightning to set up a training loop, as well as testing. We use the pretrained `r3d_18` model from `torchvision`, but randomly initialize the weights of the last fully-connected layer so we can demonstrate training. \n",
    "\n",
    "Note that the videos we used (see `train.csv` and `val.csv`) only represent 10 of the 400 Kinetics400 classes, so we must use a micro average (weighted by the occurrence of the classes in the dataset) to get meaningful metrics from testing."
   ]
  },
  {
   "cell_type": "code",
   "execution_count": 15,
   "metadata": {},
   "outputs": [],
   "source": [
    "class VideoClassificationLightningModule(pytorch_lightning.LightningModule):\n",
    "    def __init__(self):\n",
    "        super().__init__()\n",
    "        model = torchvision.models.video.r3d_18(weights=torchvision.models.video.R3D_18_Weights.KINETICS400_V1)\n",
    "        model = model.to(\"cuda\")\n",
    "\n",
    "        # Identify the fully connected layer whose weights you want to randomize\n",
    "        fc_layer = model.fc\n",
    "\n",
    "        # Randomly initialize the weights of the fc_layer\n",
    "        nn.init.xavier_uniform_(fc_layer.weight)\n",
    "        nn.init.zeros_(fc_layer.bias)\n",
    "\n",
    "        # Freeze all but last fully-connected layer\n",
    "        for name, param in model.named_parameters():\n",
    "            if not name.startswith(\"fc\"):\n",
    "                param.requires_grad = False\n",
    "        self.model = model\n",
    "\n",
    "        # Since we're only using 10/400 classes, micro average makes sense\n",
    "        self.micro_accuracy = torchmetrics.Accuracy(task=\"multiclass\", num_classes=400, average='micro')\n",
    "        self.micro_F1 = torchmetrics.classification.MulticlassF1Score(num_classes=400, average='micro')\n",
    "\n",
    "    def forward(self, x):\n",
    "        return self.model(x)\n",
    "\n",
    "    def training_step(self, batch, batch_idx):\n",
    "        # The model expects a video tensor of shape (B, C, T, H, W), which is the\n",
    "        # format provided by the dataset\n",
    "        pred = self.model(batch[\"frames\"])\n",
    "\n",
    "        labels = batch[\"label\"].to(torch.long)\n",
    "\n",
    "        # Compute cross entropy loss, loss.backwards will be called behind the scenes\n",
    "        # by PyTorchLightning after being returned from this method.\n",
    "        loss = torch.nn.functional.cross_entropy(pred, labels)\n",
    "\n",
    "        self.log(\"train_loss\", loss)\n",
    "        return loss\n",
    "\n",
    "    def test_step(self, batch, batch_idx):\n",
    "        pred = self.model(batch[\"frames\"])\n",
    "        labels = batch[\"label\"].to(torch.long)\n",
    "\n",
    "        loss = torch.nn.functional.cross_entropy(pred, labels)\n",
    "        pred_labels = torch.argmax(pred, dim=1)\n",
    "        micro_acc = self.micro_accuracy(pred_labels, labels)\n",
    "        micro_f1 = self.micro_F1(pred_labels, labels)\n",
    "\n",
    "        self.log(\"test_loss\", loss)\n",
    "        self.log(\"test_micro_accuracy\", micro_acc, on_epoch=True)\n",
    "        self.log(\"test_micro_f1\", micro_f1)\n",
    "\n",
    "        return loss\n",
    "\n",
    "    def configure_optimizers(self):\n",
    "        \"\"\"\n",
    "        Setup the Adam optimizer. Note, that this function also can return a lr scheduler, which is\n",
    "        usually useful for training video models.\n",
    "        \"\"\"\n",
    "        return torch.optim.Adam(self.parameters(), lr=1e-4)"
   ]
  },
  {
   "cell_type": "code",
   "execution_count": 16,
   "metadata": {},
   "outputs": [
    {
     "name": "stderr",
     "output_type": "stream",
     "text": [
      "GPU available: True (cuda), used: True\n",
      "TPU available: False, using: 0 TPU cores\n",
      "IPU available: False, using: 0 IPUs\n",
      "HPU available: False, using: 0 HPUs\n",
      "LOCAL_RANK: 0 - CUDA_VISIBLE_DEVICES: [0]\n",
      "\n",
      "  | Name           | Type               | Params\n",
      "------------------------------------------------------\n",
      "0 | model          | VideoResNet        | 33.4 M\n",
      "1 | micro_accuracy | MulticlassAccuracy | 0     \n",
      "2 | micro_F1       | MulticlassF1Score  | 0     \n",
      "------------------------------------------------------\n",
      "205 K     Trainable params\n",
      "33.2 M    Non-trainable params\n",
      "33.4 M    Total params\n",
      "133.486   Total estimated model params size (MB)\n"
     ]
    },
    {
     "name": "stdout",
     "output_type": "stream",
     "text": [
      "Epoch 0: : 0it [00:00, ?it/s]"
     ]
    },
    {
     "name": "stderr",
     "output_type": "stream",
     "text": [
      "[/opt/dali/dali/operators/reader/loader/video_loader.h:180] ``file_list_include_preceding_frame`` uses the default value False. In future releases, the default value will be changed to True.\n"
     ]
    },
    {
     "name": "stdout",
     "output_type": "stream",
     "text": [
      "Epoch 4: : 3325it [07:53,  7.03it/s, loss=2.09, v_num=68]"
     ]
    },
    {
     "name": "stderr",
     "output_type": "stream",
     "text": [
      "`Trainer.fit` stopped: `max_epochs=5` reached.\n"
     ]
    },
    {
     "name": "stdout",
     "output_type": "stream",
     "text": [
      "Epoch 4: : 3325it [07:53,  7.02it/s, loss=2.09, v_num=68]\n"
     ]
    }
   ],
   "source": [
    "trainer = pytorch_lightning.Trainer(accelerator='gpu', devices=1, max_epochs=5)\n",
    "model = VideoClassificationLightningModule()\n",
    "trainer.fit(model=model, train_dataloaders=train_dl)"
   ]
  },
  {
   "cell_type": "code",
   "execution_count": 17,
   "metadata": {},
   "outputs": [
    {
     "name": "stderr",
     "output_type": "stream",
     "text": [
      "LOCAL_RANK: 0 - CUDA_VISIBLE_DEVICES: [0]\n"
     ]
    },
    {
     "name": "stdout",
     "output_type": "stream",
     "text": [
      "Testing: 0it [00:00, ?it/s]"
     ]
    },
    {
     "name": "stderr",
     "output_type": "stream",
     "text": [
      "[/opt/dali/dali/operators/reader/loader/video_loader.h:180] ``file_list_include_preceding_frame`` uses the default value False. In future releases, the default value will be changed to True.\n"
     ]
    },
    {
     "name": "stdout",
     "output_type": "stream",
     "text": [
      "Testing DataLoader 0: : 1it [00:00,  6.78it/s]"
     ]
    },
    {
     "name": "stderr",
     "output_type": "stream",
     "text": [
      "/opt/conda/lib/python3.7/site-packages/pytorch_lightning/utilities/data.py:84: UserWarning: Trying to infer the `batch_size` from an ambiguous collection. The batch size we found is 8. To avoid any miscalculations, use `self.log(..., batch_size=batch_size)`.\n",
      "  \"Trying to infer the `batch_size` from an ambiguous collection. The batch size we\"\n"
     ]
    },
    {
     "name": "stdout",
     "output_type": "stream",
     "text": [
      "Testing DataLoader 0: : 236it [00:33,  7.12it/s]"
     ]
    },
    {
     "name": "stderr",
     "output_type": "stream",
     "text": [
      "/opt/conda/lib/python3.7/site-packages/pytorch_lightning/utilities/data.py:84: UserWarning: Trying to infer the `batch_size` from an ambiguous collection. The batch size we found is 6. To avoid any miscalculations, use `self.log(..., batch_size=batch_size)`.\n",
      "  \"Trying to infer the `batch_size` from an ambiguous collection. The batch size we\"\n"
     ]
    },
    {
     "name": "stdout",
     "output_type": "stream",
     "text": [
      "Testing DataLoader 0: : 269it [00:37,  7.17it/s]"
     ]
    },
    {
     "name": "stderr",
     "output_type": "stream",
     "text": [
      "/opt/conda/lib/python3.7/site-packages/pytorch_lightning/utilities/data.py:84: UserWarning: Trying to infer the `batch_size` from an ambiguous collection. The batch size we found is 5. To avoid any miscalculations, use `self.log(..., batch_size=batch_size)`.\n",
      "  \"Trying to infer the `batch_size` from an ambiguous collection. The batch size we\"\n"
     ]
    },
    {
     "name": "stdout",
     "output_type": "stream",
     "text": [
      "Testing DataLoader 0: : 279it [00:38,  7.21it/s]"
     ]
    },
    {
     "name": "stderr",
     "output_type": "stream",
     "text": [
      "/opt/conda/lib/python3.7/site-packages/pytorch_lightning/utilities/data.py:84: UserWarning: Trying to infer the `batch_size` from an ambiguous collection. The batch size we found is 1. To avoid any miscalculations, use `self.log(..., batch_size=batch_size)`.\n",
      "  \"Trying to infer the `batch_size` from an ambiguous collection. The batch size we\"\n"
     ]
    },
    {
     "name": "stdout",
     "output_type": "stream",
     "text": [
      "Testing DataLoader 0: : 282it [00:38,  7.24it/s]"
     ]
    },
    {
     "name": "stderr",
     "output_type": "stream",
     "text": [
      "/opt/conda/lib/python3.7/site-packages/pytorch_lightning/utilities/data.py:84: UserWarning: Trying to infer the `batch_size` from an ambiguous collection. The batch size we found is 3. To avoid any miscalculations, use `self.log(..., batch_size=batch_size)`.\n",
      "  \"Trying to infer the `batch_size` from an ambiguous collection. The batch size we\"\n"
     ]
    },
    {
     "name": "stdout",
     "output_type": "stream",
     "text": [
      "Testing DataLoader 0: : 287it [00:39,  7.29it/s]\n",
      "────────────────────────────────────────────────────────────────────────────────────────────────────────────────────────\n",
      "       Test metric             DataLoader 0\n",
      "────────────────────────────────────────────────────────────────────────────────────────────────────────────────────────\n",
      "        test_loss           1.0219424962997437\n",
      "   test_micro_accuracy       0.686170220375061\n",
      "      test_micro_f1          0.686170220375061\n",
      "────────────────────────────────────────────────────────────────────────────────────────────────────────────────────────\n"
     ]
    },
    {
     "name": "stderr",
     "output_type": "stream",
     "text": [
      "/opt/conda/lib/python3.7/site-packages/pytorch_lightning/utilities/data.py:84: UserWarning: Trying to infer the `batch_size` from an ambiguous collection. The batch size we found is 2. To avoid any miscalculations, use `self.log(..., batch_size=batch_size)`.\n",
      "  \"Trying to infer the `batch_size` from an ambiguous collection. The batch size we\"\n",
      "/opt/conda/lib/python3.7/site-packages/pytorch_lightning/utilities/data.py:84: UserWarning: Trying to infer the `batch_size` from an ambiguous collection. The batch size we found is 4. To avoid any miscalculations, use `self.log(..., batch_size=batch_size)`.\n",
      "  \"Trying to infer the `batch_size` from an ambiguous collection. The batch size we\"\n"
     ]
    },
    {
     "data": {
      "text/plain": [
       "[{'test_loss': 1.0219424962997437,\n",
       "  'test_micro_accuracy': 0.686170220375061,\n",
       "  'test_micro_f1': 0.686170220375061}]"
      ]
     },
     "execution_count": 17,
     "metadata": {},
     "output_type": "execute_result"
    }
   ],
   "source": [
    "trainer.test(model=model, dataloaders=test_dl)"
   ]
  }
 ],
 "metadata": {
  "kernelspec": {
   "display_name": "base",
   "language": "python",
   "name": "python3"
  },
  "language_info": {
   "codemirror_mode": {
    "name": "ipython",
    "version": 3
   },
   "file_extension": ".py",
   "mimetype": "text/x-python",
   "name": "python",
   "nbconvert_exporter": "python",
   "pygments_lexer": "ipython3",
   "version": "3.7.13"
  },
  "orig_nbformat": 4
 },
 "nbformat": 4,
 "nbformat_minor": 2
}
