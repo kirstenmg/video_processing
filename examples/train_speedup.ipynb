{
 "cells": [
  {
   "cell_type": "code",
   "execution_count": 1,
   "metadata": {},
   "outputs": [
    {
     "name": "stderr",
     "output_type": "stream",
     "text": [
      "/opt/conda/lib/python3.7/site-packages/tqdm/auto.py:22: TqdmWarning: IProgress not found. Please update jupyter and ipywidgets. See https://ipywidgets.readthedocs.io/en/stable/user_install.html\n",
      "  from .autonotebook import tqdm as notebook_tqdm\n"
     ]
    }
   ],
   "source": [
    "from combo_dataloader import ComboDataLoader, ComboDLTransform, DataLoaderType\n",
    "import torchvision\n",
    "import torch\n",
    "import torch.nn as nn\n",
    "import torchmetrics\n",
    "import time\n",
    "import pytorch_lightning\n",
    "import json\n",
    "import json\n",
    "from typing import List, Tuple\n",
    "import os\n",
    "import random"
   ]
  },
  {
   "attachments": {},
   "cell_type": "markdown",
   "metadata": {},
   "source": [
    "### Setting up video inputs and model"
   ]
  },
  {
   "attachments": {},
   "cell_type": "markdown",
   "metadata": {},
   "source": [
    "**Load in video paths and labels**"
   ]
  },
  {
   "cell_type": "code",
   "execution_count": 2,
   "metadata": {},
   "outputs": [],
   "source": [
    "with open(\"kinetics_classnames.json\", \"r\") as f:\n",
    "    kinetics_classnames_json = json.load(f)"
   ]
  },
  {
   "cell_type": "code",
   "execution_count": 3,
   "metadata": {},
   "outputs": [],
   "source": [
    "kinetics_classnames_to_id = {}\n",
    "for k, v in kinetics_classnames_json.items():\n",
    "    kinetics_classnames_to_id[str(k).replace('\"', \"\")] = v\n",
    "# Create an id to label name mapping\n",
    "kinetics_id_to_classname = {}\n",
    "for k, v in kinetics_classnames_to_id.items():\n",
    "    kinetics_id_to_classname[v] = k"
   ]
  },
  {
   "cell_type": "code",
   "execution_count": 4,
   "metadata": {},
   "outputs": [],
   "source": [
    "null_videos = {\n",
    "    \"/home/maureen/kinetics/kinetics400_10classes/train/xxUezLcXkDs_000256_000266.mp4\",\n",
    "    \"/home/maureen/kinetics/kinetics400_10classes/train/CUxsn4YXksI_000119_000129.mp4\"\n",
    "}"
   ]
  },
  {
   "cell_type": "code",
   "execution_count": 5,
   "metadata": {},
   "outputs": [],
   "source": [
    "def load_video_paths(annotation_file_path, video_base_path, shuffle=True) -> Tuple[List[str], List[int]]:\n",
    "\tvideo_paths = []\n",
    "\tlabels = []\n",
    "\twith open(annotation_file_path, 'r') as annotation_file:\n",
    "\t\tfor i, line in enumerate(annotation_file):\n",
    "\t\t\tif i != 0: # skip column headers\n",
    "\t\t\t\tline = annotation_file.readline()\n",
    "\t\t\t\tif line:\n",
    "\t\t\t\t\tlabel, youtube_id, time_start, time_end, split, is_cc = line.strip().split(',')\n",
    "\t\t\t\t\tlabel_id = kinetics_classnames_to_id.get(label)\n",
    "\t\t\t\t\tvpath = f'{video_base_path}/{split}/{youtube_id}_{int(time_start):06d}_{int(time_end):06d}.mp4'\n",
    "\n",
    "\t\t\t\t\tif os.path.exists(vpath) and vpath not in null_videos:\n",
    "\t\t\t\t\t\tvideo_paths.append(vpath)\n",
    "\t\t\t\t\t\tlabels.append(label_id)\n",
    "\n",
    "\tif shuffle:\n",
    "\t\tcombined = list(zip(video_paths, labels))\n",
    "\t\trandom.shuffle(combined)\n",
    "\t\tvideo_paths, labels = zip(*combined)\n",
    "\n",
    "\treturn video_paths, labels"
   ]
  },
  {
   "cell_type": "code",
   "execution_count": 6,
   "metadata": {},
   "outputs": [],
   "source": [
    "video_paths, train_labels = load_video_paths(\n",
    "    '/home/maureen/kinetics/kinetics400_10classes/annotations/train.csv',\n",
    "    '/home/maureen/kinetics/kinetics400_10classes'\n",
    ")"
   ]
  },
  {
   "attachments": {},
   "cell_type": "markdown",
   "metadata": {},
   "source": [
    "**Set up train/test pipeline**"
   ]
  },
  {
   "cell_type": "code",
   "execution_count": 7,
   "metadata": {},
   "outputs": [],
   "source": [
    "class VideoClassificationLightningModule(pytorch_lightning.LightningModule):\n",
    "    def __init__(self):\n",
    "        super().__init__()\n",
    "        model = torchvision.models.video.r3d_18(weights=torchvision.models.video.R3D_18_Weights.KINETICS400_V1)\n",
    "        model = model.to(\"cuda\")\n",
    "\n",
    "        # Identify the fully connected layer whose weights you want to randomize\n",
    "        fc_layer = model.fc\n",
    "\n",
    "        # Randomly initialize the weights of the fc_layer\n",
    "        nn.init.xavier_uniform_(fc_layer.weight)\n",
    "        nn.init.zeros_(fc_layer.bias)\n",
    "\n",
    "        # Freeze all but last fully-connected layer\n",
    "        for name, param in model.named_parameters():\n",
    "            if not name.startswith(\"fc\"):\n",
    "                param.requires_grad = False\n",
    "        self.model = model\n",
    "\n",
    "    def forward(self, x):\n",
    "        return self.model(x)\n",
    "\n",
    "    def training_step(self, batch, batch_idx):\n",
    "        # The model expects a video tensor of shape (B, C, T, H, W), which is the\n",
    "        # format provided by the dataset\n",
    "        pred = self.model(batch[\"frames\"])\n",
    "\n",
    "        labels = batch[\"label\"].to(torch.long)\n",
    "\n",
    "        # Compute cross entropy loss, loss.backwards will be called behind the scenes\n",
    "        # by PyTorchLightning after being returned from this method.\n",
    "        loss = torch.nn.functional.cross_entropy(pred, labels)\n",
    "\n",
    "        self.log(\"train_loss\", loss)\n",
    "        return loss\n",
    "\n",
    "    def test_step(self, batch, batch_idx):\n",
    "        pred = self.model(batch[\"frames\"])\n",
    "        labels = batch[\"label\"].to(torch.long)\n",
    "\n",
    "        loss = torch.nn.functional.cross_entropy(pred, labels)\n",
    "        pred_labels = torch.argmax(pred, dim=1)\n",
    "\n",
    "        self.log(\"test_loss\", loss)\n",
    "\n",
    "        return loss\n",
    "\n",
    "    def configure_optimizers(self):\n",
    "        \"\"\"\n",
    "        Setup the Adam optimizer. Note, that this function also can return a lr scheduler, which is\n",
    "        usually useful for training video models.\n",
    "        \"\"\"\n",
    "        return torch.optim.Adam(self.parameters(), lr=1e-4)"
   ]
  },
  {
   "cell_type": "code",
   "execution_count": 8,
   "metadata": {},
   "outputs": [
    {
     "name": "stderr",
     "output_type": "stream",
     "text": [
      "GPU available: True (cuda), used: True\n",
      "TPU available: False, using: 0 TPU cores\n",
      "IPU available: False, using: 0 IPUs\n",
      "HPU available: False, using: 0 HPUs\n"
     ]
    }
   ],
   "source": [
    "trainer = pytorch_lightning.Trainer(accelerator='gpu', devices=1, max_epochs=2)\n",
    "model = VideoClassificationLightningModule()"
   ]
  },
  {
   "attachments": {},
   "cell_type": "markdown",
   "metadata": {},
   "source": [
    "**Set up transform**"
   ]
  },
  {
   "cell_type": "code",
   "execution_count": 9,
   "metadata": {},
   "outputs": [],
   "source": [
    "transform = ComboDLTransform(\n",
    "\t\tcrop=112,\n",
    "\t\tmean=[0.43216, 0.394666, 0.37645],\n",
    "\t\tstd=[0.22803 , 0.22145 , 0.216989],\n",
    "\t\tshort_side_scale=128\n",
    ")"
   ]
  },
  {
   "attachments": {},
   "cell_type": "markdown",
   "metadata": {},
   "source": [
    "### Comparing dataloader configurations"
   ]
  },
  {
   "attachments": {},
   "cell_type": "markdown",
   "metadata": {},
   "source": [
    "**Using only a PyTorch dataloader**\n",
    "\n",
    "This configuration creates a single subprocess for a pytorch dataloader to load video inputs. Note the `num_workers` kwarg, which will get passed to the torch DataLoader constructor."
   ]
  },
  {
   "cell_type": "code",
   "execution_count": 10,
   "metadata": {},
   "outputs": [],
   "source": [
    "# Create the dataloader\n",
    "dl = ComboDataLoader(\n",
    "\t\tdataloaders=[DataLoaderType.PYTORCH],\n",
    "\t\tdataloader_portions=[1],\n",
    "\t\tvideo_paths=video_paths,\n",
    "\t\tlabels=train_labels,\n",
    "\t\ttransform=transform,\n",
    "\t\tstride=2,\n",
    "\t\tstep=32,\n",
    "\t\tsequence_length=16,\n",
    "\t\tfps=32,\n",
    "\t\tbatch_size=8,\n",
    "\t\tpytorch_dataloader_kwargs={\"num_workers\": 10},\n",
    ")"
   ]
  },
  {
   "attachments": {},
   "cell_type": "markdown",
   "metadata": {},
   "source": [
    "Let's time how long it takes to train on all the videos."
   ]
  },
  {
   "cell_type": "code",
   "execution_count": 11,
   "metadata": {},
   "outputs": [
    {
     "name": "stderr",
     "output_type": "stream",
     "text": [
      "LOCAL_RANK: 0 - CUDA_VISIBLE_DEVICES: [0]\n",
      "\n",
      "  | Name  | Type        | Params\n",
      "--------------------------------------\n",
      "0 | model | VideoResNet | 33.4 M\n",
      "--------------------------------------\n",
      "205 K     Trainable params\n",
      "33.2 M    Non-trainable params\n",
      "33.4 M    Total params\n",
      "133.486   Total estimated model params size (MB)\n"
     ]
    },
    {
     "name": "stdout",
     "output_type": "stream",
     "text": [
      "Epoch 1: : 3539it [28:00,  2.11it/s, loss=2.21, v_num=37]"
     ]
    },
    {
     "name": "stderr",
     "output_type": "stream",
     "text": [
      "`Trainer.fit` stopped: `max_epochs=2` reached.\n"
     ]
    },
    {
     "name": "stdout",
     "output_type": "stream",
     "text": [
      "Epoch 1: : 3539it [28:01,  2.11it/s, loss=2.21, v_num=37]\n"
     ]
    },
    {
     "data": {
      "text/plain": [
       "3358.7186316158623"
      ]
     },
     "execution_count": 11,
     "metadata": {},
     "output_type": "execute_result"
    }
   ],
   "source": [
    "start = time.perf_counter()\n",
    "trainer.fit(model=model, train_dataloaders=dl)\n",
    "pytorch_time = time.perf_counter() - start\n",
    "dl.shutdown()\n",
    "pytorch_time"
   ]
  },
  {
   "attachments": {},
   "cell_type": "markdown",
   "metadata": {},
   "source": [
    "**Using only a DALI dataloader**"
   ]
  },
  {
   "cell_type": "code",
   "execution_count": 12,
   "metadata": {},
   "outputs": [],
   "source": [
    "dl = ComboDataLoader(\n",
    "\t\tdataloaders=[DataLoaderType.DALI],\n",
    "\t\tdataloader_portions=[1],\n",
    "\t\tvideo_paths=video_paths,\n",
    "\t\tlabels=train_labels,\n",
    "\t\ttransform=transform,\n",
    "\t\tstride=2,\n",
    "\t\tstep=32,\n",
    "\t\tsequence_length=16,\n",
    "\t\tfps=32,\n",
    "\t\tbatch_size=8,\n",
    "\t\tdali_pipeline_kwargs={\"num_threads\": 10}\n",
    ")"
   ]
  },
  {
   "cell_type": "code",
   "execution_count": 13,
   "metadata": {},
   "outputs": [
    {
     "name": "stderr",
     "output_type": "stream",
     "text": [
      "GPU available: True (cuda), used: True\n",
      "TPU available: False, using: 0 TPU cores\n",
      "IPU available: False, using: 0 IPUs\n",
      "HPU available: False, using: 0 HPUs\n",
      "LOCAL_RANK: 0 - CUDA_VISIBLE_DEVICES: [0]\n",
      "\n",
      "  | Name  | Type        | Params\n",
      "--------------------------------------\n",
      "0 | model | VideoResNet | 33.4 M\n",
      "--------------------------------------\n",
      "205 K     Trainable params\n",
      "33.2 M    Non-trainable params\n",
      "33.4 M    Total params\n",
      "133.486   Total estimated model params size (MB)\n"
     ]
    },
    {
     "name": "stdout",
     "output_type": "stream",
     "text": [
      "Epoch 0: : 0it [00:00, ?it/s]"
     ]
    },
    {
     "name": "stderr",
     "output_type": "stream",
     "text": [
      "[/opt/dali/dali/operators/reader/loader/video_loader.h:180] ``file_list_include_preceding_frame`` uses the default value False. In future releases, the default value will be changed to True.\n"
     ]
    },
    {
     "name": "stdout",
     "output_type": "stream",
     "text": [
      "Epoch 1: : 2825it [19:09,  2.46it/s, loss=1.92, v_num=38]"
     ]
    },
    {
     "name": "stderr",
     "output_type": "stream",
     "text": [
      "`Trainer.fit` stopped: `max_epochs=2` reached.\n"
     ]
    },
    {
     "name": "stdout",
     "output_type": "stream",
     "text": [
      "Epoch 1: : 2825it [19:09,  2.46it/s, loss=1.92, v_num=38]\n"
     ]
    },
    {
     "data": {
      "text/plain": [
       "2314.4302513890434"
      ]
     },
     "execution_count": 13,
     "metadata": {},
     "output_type": "execute_result"
    }
   ],
   "source": [
    "start = time.perf_counter()\n",
    "model = VideoClassificationLightningModule()\n",
    "trainer = pytorch_lightning.Trainer(accelerator='gpu', devices=1, max_epochs=2)\n",
    "trainer.fit(model=model, train_dataloaders=dl)\n",
    "dali_time = time.perf_counter() - start\n",
    "dl.shutdown()\n",
    "dali_time"
   ]
  },
  {
   "attachments": {},
   "cell_type": "markdown",
   "metadata": {},
   "source": [
    "**Using the optimal combination of DALI and PyTorch**\n",
    "\n",
    "Based on the times measured above, we allocate the videos in an optimal split between DALI and PyTorch to take advantage of concurrency between the CPU and GPU."
   ]
  },
  {
   "cell_type": "code",
   "execution_count": 14,
   "metadata": {},
   "outputs": [
    {
     "data": {
      "text/plain": [
       "1365.5138483195356"
      ]
     },
     "execution_count": 14,
     "metadata": {},
     "output_type": "execute_result"
    }
   ],
   "source": [
    "dali_portion = int(round(pytorch_time / (pytorch_time + dali_time) * 100))\n",
    "pytorch_portion = int(round(dali_time / (pytorch_time + dali_time) * 100))\n",
    "\n",
    "# Expected time with these portions\n",
    "# We won't get this ideal time, since there is overhead\n",
    "dali_portion / 100 * dali_time"
   ]
  },
  {
   "cell_type": "code",
   "execution_count": 15,
   "metadata": {},
   "outputs": [],
   "source": [
    "# Create the dataloader\n",
    "dl = ComboDataLoader(\n",
    "\t\tdataloaders=[DataLoaderType.PYTORCH, DataLoaderType.DALI],\n",
    "\t\tdataloader_portions=[pytorch_portion, dali_portion],\n",
    "\t\tvideo_paths=video_paths,\n",
    "\t\tlabels=train_labels,\n",
    "\t\ttransform=transform,\n",
    "\t\tstride=2,\n",
    "\t\tstep=32,\n",
    "\t\tsequence_length=16,\n",
    "\t\tfps=32,\n",
    "\t\tbatch_size=8,\n",
    "\t\tpytorch_dataloader_kwargs={\"num_workers\": 10},\n",
    "\t\tdali_pipeline_kwargs={\"num_threads\": 10}\n",
    ")"
   ]
  },
  {
   "cell_type": "code",
   "execution_count": 16,
   "metadata": {},
   "outputs": [
    {
     "name": "stderr",
     "output_type": "stream",
     "text": [
      "GPU available: True (cuda), used: True\n",
      "TPU available: False, using: 0 TPU cores\n",
      "IPU available: False, using: 0 IPUs\n",
      "HPU available: False, using: 0 HPUs\n",
      "LOCAL_RANK: 0 - CUDA_VISIBLE_DEVICES: [0]\n",
      "\n",
      "  | Name  | Type        | Params\n",
      "--------------------------------------\n",
      "0 | model | VideoResNet | 33.4 M\n",
      "--------------------------------------\n",
      "205 K     Trainable params\n",
      "33.2 M    Non-trainable params\n",
      "33.4 M    Total params\n",
      "133.486   Total estimated model params size (MB)\n"
     ]
    },
    {
     "name": "stdout",
     "output_type": "stream",
     "text": [
      "Epoch 0: : 0it [00:00, ?it/s]"
     ]
    },
    {
     "name": "stderr",
     "output_type": "stream",
     "text": [
      "[/opt/dali/dali/operators/reader/loader/video_loader.h:180] ``file_list_include_preceding_frame`` uses the default value False. In future releases, the default value will be changed to True.\n"
     ]
    },
    {
     "name": "stdout",
     "output_type": "stream",
     "text": [
      "Epoch 1: : 3126it [12:00,  4.34it/s, loss=2.06, v_num=39]"
     ]
    },
    {
     "name": "stderr",
     "output_type": "stream",
     "text": [
      "`Trainer.fit` stopped: `max_epochs=2` reached.\n"
     ]
    },
    {
     "name": "stdout",
     "output_type": "stream",
     "text": [
      "Epoch 1: : 3126it [12:00,  4.34it/s, loss=2.06, v_num=39]\n"
     ]
    },
    {
     "data": {
      "text/plain": [
       "1451.3871485558338"
      ]
     },
     "execution_count": 16,
     "metadata": {},
     "output_type": "execute_result"
    }
   ],
   "source": [
    "start = time.perf_counter()\n",
    "model = VideoClassificationLightningModule()\n",
    "trainer = pytorch_lightning.Trainer(accelerator='gpu', devices=1, max_epochs=2)\n",
    "trainer.fit(model=model, train_dataloaders=dl)\n",
    "end = time.perf_counter() - start\n",
    "dl.shutdown()\n",
    "end"
   ]
  },
  {
   "attachments": {},
   "cell_type": "markdown",
   "metadata": {},
   "source": [
    "**Using PyTorch with a Decord backend**\n",
    "\n",
    "Using decord, we can push the resize down to the decoding step to get over 2x speedup."
   ]
  },
  {
   "cell_type": "code",
   "execution_count": 17,
   "metadata": {},
   "outputs": [],
   "source": [
    "# Create the dataloader\n",
    "dl = ComboDataLoader(\n",
    "\t\tdataloaders=[DataLoaderType.PYTORCH],\n",
    "\t\tdataloader_portions=[1],\n",
    "\t\tvideo_paths=video_paths,\n",
    "\t\tlabels=train_labels,\n",
    "\t\ttransform=transform,\n",
    "\t\tstride=2,\n",
    "\t\tstep=32,\n",
    "\t\tsequence_length=16,\n",
    "\t\tfps=32,\n",
    "\t\tbatch_size=8,\n",
    "\t\tpytorch_dataloader_kwargs={\"num_workers\": 10},\n",
    "\t\tpytorch_dataset_kwargs=dict(decoder=\"decord\", short_side_scale=128),\n",
    ")"
   ]
  },
  {
   "cell_type": "code",
   "execution_count": 18,
   "metadata": {},
   "outputs": [
    {
     "name": "stderr",
     "output_type": "stream",
     "text": [
      "GPU available: True (cuda), used: True\n",
      "TPU available: False, using: 0 TPU cores\n",
      "IPU available: False, using: 0 IPUs\n",
      "HPU available: False, using: 0 HPUs\n",
      "LOCAL_RANK: 0 - CUDA_VISIBLE_DEVICES: [0]\n",
      "\n",
      "  | Name  | Type        | Params\n",
      "--------------------------------------\n",
      "0 | model | VideoResNet | 33.4 M\n",
      "--------------------------------------\n",
      "205 K     Trainable params\n",
      "33.2 M    Non-trainable params\n",
      "33.4 M    Total params\n",
      "133.486   Total estimated model params size (MB)\n"
     ]
    },
    {
     "name": "stdout",
     "output_type": "stream",
     "text": [
      "Epoch 1: : 3539it [08:17,  7.11it/s, loss=2.25, v_num=40]"
     ]
    },
    {
     "name": "stderr",
     "output_type": "stream",
     "text": [
      "`Trainer.fit` stopped: `max_epochs=2` reached.\n"
     ]
    },
    {
     "name": "stdout",
     "output_type": "stream",
     "text": [
      "Epoch 1: : 3539it [08:18,  7.10it/s, loss=2.25, v_num=40]\n"
     ]
    },
    {
     "data": {
      "text/plain": [
       "999.626766884001"
      ]
     },
     "execution_count": 18,
     "metadata": {},
     "output_type": "execute_result"
    }
   ],
   "source": [
    "start = time.perf_counter()\n",
    "model = VideoClassificationLightningModule()\n",
    "trainer = pytorch_lightning.Trainer(accelerator='gpu', devices=1, max_epochs=2)\n",
    "trainer.fit(model=model, train_dataloaders=dl)\n",
    "pytorch_decord_time = time.perf_counter() - start\n",
    "dl.shutdown()\n",
    "pytorch_decord_time"
   ]
  },
  {
   "cell_type": "code",
   "execution_count": 19,
   "metadata": {},
   "outputs": [
    {
     "data": {
      "text/plain": [
       "3.359972684690641"
      ]
     },
     "execution_count": 19,
     "metadata": {},
     "output_type": "execute_result"
    }
   ],
   "source": [
    "pytorch_time / pytorch_decord_time"
   ]
  },
  {
   "attachments": {},
   "cell_type": "markdown",
   "metadata": {},
   "source": [
    "**Using the optimal combination of DALI and PyTorch with a Decord backend**"
   ]
  },
  {
   "cell_type": "code",
   "execution_count": 20,
   "metadata": {},
   "outputs": [
    {
     "data": {
      "text/plain": [
       "694.329075416713"
      ]
     },
     "execution_count": 20,
     "metadata": {},
     "output_type": "execute_result"
    }
   ],
   "source": [
    "dali_portion = int(round(pytorch_decord_time / (pytorch_decord_time + dali_time) * 100))\n",
    "pytorch_portion = int(round(dali_time / (pytorch_decord_time + dali_time) * 100))\n",
    "\n",
    "# Expected time with these portions\n",
    "dali_portion / 100 * dali_time"
   ]
  },
  {
   "cell_type": "code",
   "execution_count": 21,
   "metadata": {},
   "outputs": [],
   "source": [
    "# Create the dataloader\n",
    "dl = ComboDataLoader(\n",
    "\t\tdataloaders=[DataLoaderType.PYTORCH, DataLoaderType.DALI],\n",
    "\t\tdataloader_portions=[pytorch_portion, dali_portion],\n",
    "\t\tvideo_paths=video_paths,\n",
    "\t\tlabels=train_labels,\n",
    "\t\ttransform=transform,\n",
    "\t\tstride=2,\n",
    "\t\tstep=32,\n",
    "\t\tsequence_length=16,\n",
    "\t\tfps=32,\n",
    "\t\tbatch_size=8,\n",
    "\t\tpytorch_dataloader_kwargs={\"num_workers\": 10},\n",
    "\t\tpytorch_dataset_kwargs=dict(decoder=\"decord\", short_side_scale=128),\n",
    "\t\tdali_pipeline_kwargs={\"num_threads\": 10},\n",
    ")"
   ]
  },
  {
   "cell_type": "code",
   "execution_count": 22,
   "metadata": {},
   "outputs": [
    {
     "name": "stderr",
     "output_type": "stream",
     "text": [
      "GPU available: True (cuda), used: True\n",
      "TPU available: False, using: 0 TPU cores\n",
      "IPU available: False, using: 0 IPUs\n",
      "HPU available: False, using: 0 HPUs\n",
      "LOCAL_RANK: 0 - CUDA_VISIBLE_DEVICES: [0]\n",
      "\n",
      "  | Name  | Type        | Params\n",
      "--------------------------------------\n",
      "0 | model | VideoResNet | 33.4 M\n",
      "--------------------------------------\n",
      "205 K     Trainable params\n",
      "33.2 M    Non-trainable params\n",
      "33.4 M    Total params\n",
      "133.486   Total estimated model params size (MB)\n"
     ]
    },
    {
     "name": "stdout",
     "output_type": "stream",
     "text": [
      "Epoch 0: : 0it [00:00, ?it/s]"
     ]
    },
    {
     "name": "stderr",
     "output_type": "stream",
     "text": [
      "[/opt/dali/dali/operators/reader/loader/video_loader.h:180] ``file_list_include_preceding_frame`` uses the default value False. In future releases, the default value will be changed to True.\n"
     ]
    },
    {
     "name": "stdout",
     "output_type": "stream",
     "text": [
      "Epoch 1: : 3324it [07:52,  7.03it/s, loss=2.12, v_num=41]"
     ]
    },
    {
     "name": "stderr",
     "output_type": "stream",
     "text": [
      "`Trainer.fit` stopped: `max_epochs=2` reached.\n"
     ]
    },
    {
     "name": "stdout",
     "output_type": "stream",
     "text": [
      "Epoch 1: : 3324it [07:53,  7.03it/s, loss=2.12, v_num=41]\n"
     ]
    },
    {
     "data": {
      "text/plain": [
       "950.7100973417982"
      ]
     },
     "execution_count": 22,
     "metadata": {},
     "output_type": "execute_result"
    }
   ],
   "source": [
    "start = time.perf_counter()\n",
    "model = VideoClassificationLightningModule()\n",
    "trainer = pytorch_lightning.Trainer(accelerator='gpu', devices=1, max_epochs=2)\n",
    "trainer.fit(model=model, train_dataloaders=dl)\n",
    "end = time.perf_counter() - start\n",
    "dl.shutdown()\n",
    "end"
   ]
  },
  {
   "cell_type": "code",
   "execution_count": 23,
   "metadata": {},
   "outputs": [
    {
     "data": {
      "text/plain": [
       "3.5328525919803493"
      ]
     },
     "execution_count": 23,
     "metadata": {},
     "output_type": "execute_result"
    }
   ],
   "source": [
    "# Speedup \n",
    "pytorch_time / end"
   ]
  }
 ],
 "metadata": {
  "kernelspec": {
   "display_name": "base",
   "language": "python",
   "name": "python3"
  },
  "language_info": {
   "codemirror_mode": {
    "name": "ipython",
    "version": 3
   },
   "file_extension": ".py",
   "mimetype": "text/x-python",
   "name": "python",
   "nbconvert_exporter": "python",
   "pygments_lexer": "ipython3",
   "version": "3.7.13"
  },
  "orig_nbformat": 4
 },
 "nbformat": 4,
 "nbformat_minor": 2
}
